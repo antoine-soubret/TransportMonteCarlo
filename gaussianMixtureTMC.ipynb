{
  "nbformat": 4,
  "nbformat_minor": 0,
  "metadata": {
    "colab": {
      "name": "SamplingGaussianMixture.ipynb",
      "provenance": []
    },
    "kernelspec": {
      "display_name": "Python 3",
      "language": "python",
      "name": "python3"
    },
    "language_info": {
      "codemirror_mode": {
        "name": "ipython",
        "version": 3
      },
      "file_extension": ".py",
      "mimetype": "text/x-python",
      "name": "python",
      "nbconvert_exporter": "python",
      "pygments_lexer": "ipython3",
      "version": "3.7.7"
    },
    "accelerator": "GPU"
  },
  "cells": [
    {
      "cell_type": "code",
      "metadata": {
        "colab_type": "code",
        "id": "9_Z5moYIXkn5",
        "colab": {}
      },
      "source": [
        "import numpy as np\n",
        "import matplotlib.pyplot as plt\n",
        "%matplotlib inline\n",
        "\n",
        "from pylab import rcParams\n",
        "# rcParams['figure.figsize'] = 5, 4\n",
        "# rcParams['figure.dpi'] = 300\n",
        "\n",
        "import torch\n",
        "from torch import nn\n",
        "from torch import distributions\n",
        "from torch.nn.parameter import Parameter\n",
        "\n",
        "from sklearn import cluster, datasets, mixture\n",
        "from sklearn.preprocessing import StandardScaler\n",
        "\n",
        "# select device: change to 'cpu' if there's no GPU device\n",
        "device = 'gpu'\n",
        "\n",
        "if device == 'gpu':\n",
        "    torch.cuda.set_device(0)\n",
        "    torch.set_default_tensor_type(torch.cuda.DoubleTensor)\n",
        "\n",
        "if device == 'cpu':\n",
        "    torch.set_default_tensor_type(torch.DoubleTensor)"
      ],
      "execution_count": 2,
      "outputs": []
    },
    {
      "cell_type": "code",
      "metadata": {
        "id": "ZSPb4LTvlkTP",
        "colab_type": "code",
        "colab": {}
      },
      "source": [
        ""
      ],
      "execution_count": 2,
      "outputs": []
    },
    {
      "cell_type": "code",
      "metadata": {
        "id": "XQ7GuMwFlkTh",
        "colab_type": "code",
        "colab": {}
      },
      "source": [
        "class ScaleAndShift(nn.Module):\n",
        "    def __init__(self, input_features, K=1):\n",
        "        super(ScaleAndShift, self).__init__()\n",
        "        self.input_features = input_features # Dimension of parameter space p\n",
        "        self.K = K # Number of mixtures\n",
        "\n",
        "        # nn.Parameter is a special kind of Tensor, that will get\n",
        "        # automatically registered as Module's parameter once it's assigned\n",
        "        # as an attribute. Parameters and buffers need to be registered, or\n",
        "        # they won't appear in .parameters() (doesn't apply to buffers), and\n",
        "        # won't be converted when e.g. .cuda() is called. You can use\n",
        "        # .register_buffer() to register buffers.\n",
        "        # nn.Parameters require gradients by default.\n",
        "        \n",
        "        self.logscale = nn.Parameter(torch.Tensor(input_features,K)) # Matrix dim=[p,K]\n",
        "        self.shift = nn.Parameter(torch.Tensor(input_features,K)) # Matrix dim=[p,K]\n",
        "\n",
        "        self.logscale.data.uniform_(-1, 1)\n",
        "        self.shift.data.uniform_(-1, 1)\n",
        "\n",
        "    def forward(self, input):\n",
        "        # See the autograd section for explanation of what happens here.\n",
        "        \n",
        "        # input dimension dim=[batch_no,p]\n",
        "        batch_no = input.shape[0] # Number of batch simulation as the first dimension\n",
        "        p = self.input_features # Dimension of parameter space\n",
        "        \n",
        "        K = self.K # Number of mixtures\n",
        "        \n",
        "#         self.logscale = self.scale_raw  # torch.tanh(self.scale_raw)\n",
        "        self.scale = torch.exp(self.logscale)\n",
        "        \n",
        "        x_rep = input.reshape([batch_no,1,p]).repeat(1,K,1)  # Tensor of dimension [batch_no,K,p]\n",
        "        w_rep = self.scale.T.reshape([1,K,p]).repeat(batch_no,1,1) # Tensor of dimension [batch_no,K,p]\n",
        "        b_rep = self.shift.T.reshape([1,K,p]).repeat(batch_no,1,1) # Tensor of dimension [batch_no,K,p]\n",
        "\n",
        "        return x_rep*w_rep+b_rep # Tensor of dimension [batch_no,K,p]. Element-wise location-scale change from beta to theta coefficient . eq (6) in the paper \n",
        "\n",
        "    def print_param(self):\n",
        "        # (Optional)Set the extra information about this module. You can test\n",
        "        # it by printing an object of this class.\n",
        "        scale = torch.exp(self.logscale)\n",
        "        return 'scale={}, shift={}'.format(\n",
        "            scale, self.shift\n",
        "        )"
      ],
      "execution_count": 3,
      "outputs": []
    },
    {
      "cell_type": "code",
      "metadata": {
        "id": "V6vquQFelkT2",
        "colab_type": "code",
        "colab": {}
      },
      "source": [
        "class KCat(nn.Module):\n",
        "    def __init__(self, input_features, K=1):\n",
        "        super(KCat, self).__init__()\n",
        "        self.input_features = input_features # Dimension of parameter space p\n",
        "        self.K = K # Number of mixtures\n",
        "        \n",
        "        self.w = nn.Parameter(torch.Tensor(input_features,K)) # a_k parameter in Eq(7) in the paper. Tensor of dimension [p,K]\n",
        "        self.b0 = nn.Parameter(torch.Tensor(K)) # unnormalized log(b_k) parameter in Eq(7) in the paper. Tensor of dimension [K]\n",
        "\n",
        "        self.w.data.uniform_(-1, 1)\n",
        "        self.b0.data.uniform_(-1, 1)\n",
        "\n",
        "        \n",
        "    def forward(self, input,dim=1):\n",
        "        # theta values are the input of this function. input dimension dim=[batch_no,K,p]\n",
        "        # b leaves in the log-space\n",
        "        b = self.b0 - torch.logsumexp(self.b0,0,keepdim=True) #exp(b)=exp(b0)/(sum exp(b0)) so b is the log of the normalized exp(b0) vector, i.e. sum(exp(b)) = 1\n",
        "        \n",
        "        xw_b = input@self.w+ b # = a_k^T * theta +log(b_k) in Eq(7) of the paper. input dim=[p], self.w dim=[p,K], b dim=[K];   @: matrix vector multiplication in python\n",
        "        return xw_b - torch.logsumexp(xw_b,dim=dim,keepdim=True) # Weight are normalized to sum to 1"
      ],
      "execution_count": 53,
      "outputs": []
    },
    {
      "cell_type": "code",
      "metadata": {
        "id": "yVmgrqtalkUA",
        "colab_type": "code",
        "colab": {}
      },
      "source": [
        ""
      ],
      "execution_count": 4,
      "outputs": []
    },
    {
      "cell_type": "code",
      "metadata": {
        "id": "17RQUp4blkUM",
        "colab_type": "code",
        "colab": {}
      },
      "source": [
        "batch_no = 1000\n",
        "p = 2  # Dimension of the parameter space\n",
        "K = 100  # Number of mixture components"
      ],
      "execution_count": 5,
      "outputs": []
    },
    {
      "cell_type": "code",
      "metadata": {
        "id": "9Pjkb4oflkUT",
        "colab_type": "code",
        "colab": {}
      },
      "source": [
        "scale_shift = ScaleAndShift(p,K)\n",
        "kcat = KCat(p,K)"
      ],
      "execution_count": 6,
      "outputs": []
    },
    {
      "cell_type": "code",
      "metadata": {
        "id": "mzWj5PEsMRd6",
        "colab_type": "code",
        "colab": {
          "base_uri": "https://localhost:8080/",
          "height": 128
        },
        "outputId": "fb628d66-b36c-4fa0-de93-89fd8054f4a5"
      },
      "source": [
        "scale_shift.print_param()"
      ],
      "execution_count": 7,
      "outputs": [
        {
          "output_type": "execute_result",
          "data": {
            "application/vnd.google.colaboratory.intrinsic+json": {
              "type": "string"
            },
            "text/plain": [
              "'scale=tensor([[0.4406, 2.1844, 0.4117, 0.8860, 1.4614, 0.7852, 0.8350, 0.4921, 0.5739,\\n         2.6364, 1.4093, 2.2280, 0.8419, 0.4059, 1.8315, 2.6288, 0.4078, 0.4906,\\n         0.7341, 2.2176, 2.1727, 0.5510, 1.2997, 1.0629, 2.3101, 0.8701, 1.7089,\\n         1.6066, 0.6523, 1.9084, 0.6930, 1.4014, 0.7564, 1.5538, 1.8218, 0.6018,\\n         2.2735, 0.5780, 2.0217, 1.2455, 1.1889, 0.7302, 1.2440, 0.5470, 1.7386,\\n         1.0856, 1.6422, 0.9019, 1.8181, 1.0341, 1.4031, 2.2507, 0.7897, 1.5691,\\n         1.7524, 0.4177, 2.4571, 0.9428, 1.8398, 2.5643, 0.6913, 1.2387, 0.7639,\\n         1.1708, 2.3796, 1.2698, 0.6952, 0.6223, 0.4390, 0.4293, 0.6664, 0.4191,\\n         0.4069, 0.9626, 0.4259, 1.7484, 0.4324, 0.4740, 0.7806, 1.4997, 1.6875,\\n         0.4329, 0.3883, 2.6806, 0.8852, 2.5744, 0.3723, 1.8179, 1.3034, 2.1539,\\n         0.5290, 0.5988, 1.7488, 2.4367, 0.6941, 0.6888, 2.4634, 0.6204, 2.6569,\\n         1.2278],\\n        [1.2219, 1.3685, 0.6757, 0.3716, 1.4646, 1.4957, 1.2878, 0.8109, 2.2677,\\n         1.7867, 1.1081, 2.2796, 1.6393, 1.0004, 2.1763, 0.4340, 0.5445, 1.4473,\\n         1.7952, 0.4792, 0.6226, 0.9226, 1.4244, 0.4238, 0.5004, 2.1891, 1.3588,\\n         0.4167, 2.3223, 0.4949, 1.3998, 0.7523, 0.3863, 1.6336, 1.2867, 0.5221,\\n         0.8285, 1.4243, 2.6647, 1.1122, 0.3736, 1.6625, 0.7946, 0.9819, 0.6544,\\n         0.5359, 1.1804, 1.4801, 0.6807, 1.7909, 0.8844, 2.2820, 0.6189, 0.8734,\\n         2.2220, 0.5596, 0.5362, 0.3818, 0.9954, 0.3943, 1.0809, 0.6510, 0.3884,\\n         0.7076, 0.5088, 0.6957, 0.5584, 1.4191, 0.5541, 0.3679, 1.2982, 1.5647,\\n         0.5064, 1.6244, 1.0147, 1.3623, 1.6719, 0.8960, 0.4191, 0.6087, 1.7184,\\n         1.4006, 1.3415, 1.2166, 1.3842, 2.5919, 0.4959, 0.4848, 0.8700, 1.0093,\\n         0.8088, 0.9748, 0.6211, 1.9415, 0.5340, 0.8812, 0.7940, 2.4068, 0.5826,\\n         1.6984]], grad_fn=<ExpBackward>), shift=Parameter containing:\\ntensor([[-0.6627, -0.6918, -0.6461,  0.3744, -0.8960,  0.3756, -0.7646, -0.8511,\\n         -0.3589,  0.7490,  0.0477,  0.6926, -0.1774, -0.0162, -0.6878,  0.5379,\\n          0.6286, -0.1919,  0.0494,  0.7999,  0.4738, -0.2830, -0.5304,  0.6492,\\n          0.7467, -0.3257,  0.9129, -0.2854,  0.0607,  0.7837,  0.7370, -0.7321,\\n         -0.5205, -0.8796,  0.1981,  0.0168, -0.2902, -0.1534,  0.7816, -0.1161,\\n          0.8946, -0.0016,  0.4257,  0.1363, -0.3364, -0.2141,  0.9782,  0.0352,\\n          0.0413,  0.0770, -0.4797, -0.7214, -0.8243,  0.0946, -0.0848, -0.6266,\\n          0.8904, -0.1912, -0.3964, -0.2880,  0.5546,  0.7142,  0.2519, -0.4447,\\n         -0.4226,  0.0405, -0.2451,  0.9714,  0.1267,  0.6943, -0.9743,  0.4843,\\n          0.1894,  0.1082,  0.4255,  0.4607,  0.3139, -0.9983,  0.4547, -0.0317,\\n         -0.8527,  0.2736,  0.4557, -0.8966,  0.8590,  0.3894, -0.7740,  0.5376,\\n          0.5990, -0.0220,  0.4697,  0.4619, -0.3154,  0.6445,  0.8862,  0.3989,\\n          0.9778,  0.1106,  0.7041, -0.7205],\\n        [ 0.3208,  0.9905,  0.9815, -0.7954,  0.0470,  0.3866, -0.6860, -0.8873,\\n         -0.0895, -0.8684,  0.0200, -0.1977, -0.2186, -0.0787, -0.7362,  0.2276,\\n         -0.9636,  0.5825,  0.7970, -0.0761,  0.2636, -0.4316,  0.5405, -0.4204,\\n         -0.9326,  0.6138, -0.0492,  0.1097, -0.7043,  0.7434, -0.5687,  0.8965,\\n          0.5447,  0.8921, -0.3569, -0.3315, -0.2492, -0.8788, -0.0922,  0.9645,\\n         -0.7271, -0.9372, -0.0109,  0.0260,  0.2236,  0.5403, -0.2927,  0.3518,\\n          0.4042,  0.4344, -0.4915,  0.5328, -0.5956, -0.5105,  0.7933, -0.5433,\\n         -0.8696, -0.0767,  0.6827, -0.5210, -0.0340,  0.1204,  0.5696,  0.6378,\\n          0.2185,  0.8613, -0.4594,  0.2522,  0.6994, -0.1202, -0.1505, -0.5105,\\n         -0.5534, -0.3808, -0.9143, -0.3249, -0.4133, -0.9571, -0.9483, -0.2075,\\n          0.5007,  0.5638,  0.4709, -0.5890, -0.1866,  0.4675,  0.6625, -0.0542,\\n         -0.8495,  0.5477,  0.1018,  0.2771,  0.8143,  0.6693, -0.7959,  0.9925,\\n          0.2142, -0.5047, -0.8884,  0.5337]], requires_grad=True)'"
            ]
          },
          "metadata": {
            "tags": []
          },
          "execution_count": 7
        }
      ]
    },
    {
      "cell_type": "code",
      "metadata": {
        "id": "i-6KqATMN7Co",
        "colab_type": "code",
        "colab": {
          "base_uri": "https://localhost:8080/",
          "height": 35
        },
        "outputId": "1885cbc9-d086-45a8-ab6b-479470905563"
      },
      "source": [
        "# scale_shift.logscale is a matrix of dimension [p,K]\n",
        "scale_shift.logscale.data.size()\n"
      ],
      "execution_count": 8,
      "outputs": [
        {
          "output_type": "execute_result",
          "data": {
            "text/plain": [
              "torch.Size([2, 100])"
            ]
          },
          "metadata": {
            "tags": []
          },
          "execution_count": 8
        }
      ]
    },
    {
      "cell_type": "code",
      "metadata": {
        "id": "LNsPIEkIsCop",
        "colab_type": "code",
        "colab": {
          "base_uri": "https://localhost:8080/",
          "height": 293
        },
        "outputId": "31973dba-8495-4a1d-c3ba-a7a05a15dac0"
      },
      "source": [
        "# scale_shift.shift is a matrix of dimension [p,K]\n",
        "print(\"shift type: \",type(scale_shift.shift))\n",
        "print(\"shift size: \",scale_shift.shift.data.size())\n",
        "print(\"shift first element in first dimension: \",scale_shift.shift[0][0:5])\n",
        "print(\"shift first element in second dimension: \",scale_shift.shift[1][0:5])\n",
        "print(\"shift :\",scale_shift.shift[:,:5])\n",
        "print(\"Shift transpose size\",scale_shift.shift.T.size())# T is for transpose\n",
        "print(\"shift transpose first element in first dimension: \",scale_shift.shift.T[0][0:2])\n",
        "print(\"shift transpose first element in second dimension: \",scale_shift.shift.T[1][0:2])\n",
        "print(\"shift transpose: \",scale_shift.shift.T[:5,:])"
      ],
      "execution_count": 9,
      "outputs": [
        {
          "output_type": "stream",
          "text": [
            "shift type:  <class 'torch.nn.parameter.Parameter'>\n",
            "shift size:  torch.Size([2, 100])\n",
            "shift first element in first dimension:  tensor([-0.6627, -0.6918, -0.6461,  0.3744, -0.8960], grad_fn=<SliceBackward>)\n",
            "shift first element in second dimension:  tensor([ 0.3208,  0.9905,  0.9815, -0.7954,  0.0470], grad_fn=<SliceBackward>)\n",
            "shift : tensor([[-0.6627, -0.6918, -0.6461,  0.3744, -0.8960],\n",
            "        [ 0.3208,  0.9905,  0.9815, -0.7954,  0.0470]],\n",
            "       grad_fn=<SliceBackward>)\n",
            "Shift transpose size torch.Size([100, 2])\n",
            "shift transpose first element in first dimension:  tensor([-0.6627,  0.3208], grad_fn=<SliceBackward>)\n",
            "shift transpose first element in second dimension:  tensor([-0.6918,  0.9905], grad_fn=<SliceBackward>)\n",
            "shift transpose:  tensor([[-0.6627,  0.3208],\n",
            "        [-0.6918,  0.9905],\n",
            "        [-0.6461,  0.9815],\n",
            "        [ 0.3744, -0.7954],\n",
            "        [-0.8960,  0.0470]], grad_fn=<SliceBackward>)\n"
          ],
          "name": "stdout"
        }
      ]
    },
    {
      "cell_type": "code",
      "metadata": {
        "id": "8pce3tXQRqrH",
        "colab_type": "code",
        "colab": {
          "base_uri": "https://localhost:8080/",
          "height": 90
        },
        "outputId": "a29bace5-55fa-45ea-d8f2-17500a2072df"
      },
      "source": [
        "# Using torch tensor\n",
        "x = torch.tensor([[1, 2, 3], [4, 5, 6]])\n",
        "print(x)\n",
        "print(x[0])\n",
        "print(x[0][2])"
      ],
      "execution_count": 10,
      "outputs": [
        {
          "output_type": "stream",
          "text": [
            "tensor([[1, 2, 3],\n",
            "        [4, 5, 6]])\n",
            "tensor([1, 2, 3])\n",
            "tensor(3)\n"
          ],
          "name": "stdout"
        }
      ]
    },
    {
      "cell_type": "code",
      "metadata": {
        "colab_type": "code",
        "id": "bosJXi7rPrIv",
        "colab": {
          "base_uri": "https://localhost:8080/",
          "height": 660
        },
        "outputId": "4ad3cdf0-b16f-4a39-d835-88a933beaafc"
      },
      "source": [
        "batch_no = 6\n",
        "print(\"shift T:\",scale_shift.shift.T[:5,:])\n",
        "print(\"shift transpose size: \",scale_shift.shift.T.size())\n",
        "print(\"shift transpose after reshape (notice one more bracket):\",scale_shift.shift.T.reshape([1,K,p])[:,:5,:])\n",
        "print(\"shift transpose after reshape dimension: \",scale_shift.shift.T.reshape([1,K,p]).size())\n",
        "print(\"shift transpose after reshape (notice one more bracket):\",scale_shift.shift.T.reshape([1,K,p])[:,:5,:])\n",
        "print(\"shift transpose after reshape and repeat: \",scale_shift.shift.T.reshape([1,K,p]).repeat(batch_no,1,1)[:3,:5,:])\n",
        "print(\"shift transpose after reshape and repeat dimension: \",scale_shift.shift.T.reshape([1,K,p]).repeat(batch_no,1,1).size())\n",
        "# x_rep*w_rep+b_rep # Tensor of dimension [batch_no,K,p]. Element-wise multiplication between x_rep and w_rep. \n"
      ],
      "execution_count": 11,
      "outputs": [
        {
          "output_type": "stream",
          "text": [
            "shift T: tensor([[-0.6627,  0.3208],\n",
            "        [-0.6918,  0.9905],\n",
            "        [-0.6461,  0.9815],\n",
            "        [ 0.3744, -0.7954],\n",
            "        [-0.8960,  0.0470]], grad_fn=<SliceBackward>)\n",
            "shift transpose size:  torch.Size([100, 2])\n",
            "shift transpose after reshape (notice one more bracket): tensor([[[-0.6627,  0.3208],\n",
            "         [-0.6918,  0.9905],\n",
            "         [-0.6461,  0.9815],\n",
            "         [ 0.3744, -0.7954],\n",
            "         [-0.8960,  0.0470]]], grad_fn=<SliceBackward>)\n",
            "shift transpose after reshape dimension:  torch.Size([1, 100, 2])\n",
            "shift transpose after reshape (notice one more bracket): tensor([[[-0.6627,  0.3208],\n",
            "         [-0.6918,  0.9905],\n",
            "         [-0.6461,  0.9815],\n",
            "         [ 0.3744, -0.7954],\n",
            "         [-0.8960,  0.0470]]], grad_fn=<SliceBackward>)\n",
            "shift transpose after reshape and repeat:  tensor([[[-0.6627,  0.3208],\n",
            "         [-0.6918,  0.9905],\n",
            "         [-0.6461,  0.9815],\n",
            "         [ 0.3744, -0.7954],\n",
            "         [-0.8960,  0.0470]],\n",
            "\n",
            "        [[-0.6627,  0.3208],\n",
            "         [-0.6918,  0.9905],\n",
            "         [-0.6461,  0.9815],\n",
            "         [ 0.3744, -0.7954],\n",
            "         [-0.8960,  0.0470]],\n",
            "\n",
            "        [[-0.6627,  0.3208],\n",
            "         [-0.6918,  0.9905],\n",
            "         [-0.6461,  0.9815],\n",
            "         [ 0.3744, -0.7954],\n",
            "         [-0.8960,  0.0470]]], grad_fn=<SliceBackward>)\n",
            "shift transpose after reshape and repeat dimension:  torch.Size([6, 100, 2])\n"
          ],
          "name": "stdout"
        }
      ]
    },
    {
      "cell_type": "code",
      "metadata": {
        "id": "69UuA3qZQE_G",
        "colab_type": "code",
        "colab": {
          "base_uri": "https://localhost:8080/",
          "height": 35
        },
        "outputId": "4db290a2-2413-4589-911c-05a31ef8a1ce"
      },
      "source": [
        "scale_shift.shift.T.size()"
      ],
      "execution_count": 12,
      "outputs": [
        {
          "output_type": "execute_result",
          "data": {
            "text/plain": [
              "torch.Size([100, 2])"
            ]
          },
          "metadata": {
            "tags": []
          },
          "execution_count": 12
        }
      ]
    },
    {
      "cell_type": "code",
      "metadata": {
        "id": "YLn9w46blkUk",
        "colab_type": "code",
        "colab": {}
      },
      "source": [
        "class Loglik(nn.Module):\n",
        "    def __init__(self):\n",
        "        super(Loglik, self).__init__()\n",
        "        \n",
        "        # Parameter of the mixture\n",
        "        # theta |y ~ + 0.5 N([5 ; 2],[1 0.5; 0.5 1]) + 0.5 N([-3 ; -1],[1*s1^2 -0.9*s1 ; -0.9*s1 1]) \n",
        "        s1 = 1\n",
        "        \n",
        "        # Covariance matrices of the 2 mixture components\n",
        "        sigma0 = 1\n",
        "        Sigma1 = torch.tensor(np.reshape(np.array([1,0.5,0.5,1], np.float64),[2,2])) * sigma0**2\n",
        "        Sigma2 = torch.tensor(np.reshape(np.array([1*s1**2,-0.9*s1,-0.9*s1,1], np.float64),[2,2])) * sigma0**2\n",
        "\n",
        "        self.Omega1 = (Sigma1).inverse()\n",
        "        self.Omega2 = (Sigma2).inverse()\n",
        "\n",
        "        # Mode of the gaussian distribution\n",
        "        self.Mu1 = torch.tensor(np.matrix([5,2]))\n",
        "        self.Mu2 = torch.tensor(np.matrix([-3,-1]))\n",
        "\n",
        "        # log determinant of the covariance matrices\n",
        "        self.logSigma1 = torch.logdet(Sigma1)\n",
        "        self.logSigma2 = torch.logdet(Sigma2)\n",
        "              \n",
        "    def f(self, theta):\n",
        "        # Calculate the likelihood of a theta for the mixture posterior\n",
        "        # logLik of one Gaussian N(mu,Sigma) with dim(mu)= n:       logLik = -0.5*n*log(2*pi) - log(det(Sigma))/2.0 - (x-mu)^T*\\Sigma^(-1)*(x-mu)/2.0\n",
        "        # Here n = 2:  logLik = -log(2*pi) - log(det(Sigma))/2.0 - (x-mu)^T*\\Sigma^(-1)*(x-mu)/2.0\n",
        "        #              logLik = -log(2*pi) - log(det(Sigma))/2.0 - quad/2.0  with quad = (x-mu)^T*\\Sigma^(-1)*(x-mu)\n",
        "        #\n",
        "        # logLik of the mixture of two gaussians: (See https://stephens999.github.io/fiveMinuteStats/intro_to_em.html)\n",
        "        # Lik = 0.5*N(M1,Sigma1) + 0.5 *N(Mu2,Sigma2)\n",
        "        # logLik = log( sum_{k=1..K} [0.5 * N(M1,Sigma1) ; 0.5 * N(Mu2,Sigma2)])  with K=2\n",
        "        #        = log(0.5) + log( sum_{k=1..K} [N(M1,Sigma1) ; N(Mu2,Sigma2)])\n",
        "        #        = log(0.5) + log( sum_{k=1..K} exp [ - quad1/2.0 - logdet(Sigma1)/2.0 -log(2*pi) ; - quad2/2.0 - logdet(Sigma2)/2.0 -log(2*pi)])\n",
        "        #        = log(0.5) - log(2*pi) + log( sum_{k=1..K} exp [ - quad1/2.0 - logdet(Sigma1)/2.0  ; - quad2/2.0 - logdet(Sigma2)/2.0 ])\n",
        "        Mu1 = self.Mu1\n",
        "        Mu2 = self.Mu2\n",
        "        Omega1 = self.Omega1\n",
        "        Omega2 = self.Omega2\n",
        "        logSigma1 = self.logSigma1\n",
        "        logSigma2 = self.logSigma2\n",
        "\n",
        "        diff1 = (theta-Mu1) # theta dim = 1,2\n",
        "        quad1 = torch.diagonal( diff1@Omega1@torch.transpose(diff1,1,2),dim1=1,dim2=2) # matrix multiplication (theta-Mu1) x Omega1 x (theta-Mu1)^T\n",
        "\n",
        "        diff2 = (theta-Mu2)\n",
        "        quad2 = torch.diagonal( diff2@Omega2@torch.transpose(diff2,1,2),dim1=1,dim2=2)\n",
        "\n",
        "        comp_loglik1 =  - quad1/2.0 - logSigma1/2.0 \n",
        "        comp_loglik2 = - quad2/2.0 - logSigma2/2.0 \n",
        "\n",
        "        loglik = torch.logsumexp(torch.stack([comp_loglik1,comp_loglik2]),dim=0) + np.log(0.5) -np.log(2*np.pi) # sum in logsumexp over the number of mixtures\n",
        "        return  loglik\n",
        "\n",
        "compLoglik = Loglik()"
      ],
      "execution_count": 13,
      "outputs": []
    },
    {
      "cell_type": "code",
      "metadata": {
        "id": "lrRuF36-eoGQ",
        "colab_type": "code",
        "colab": {
          "base_uri": "https://localhost:8080/",
          "height": 54
        },
        "outputId": "318996ae-bfdb-4f76-f09a-23f1dba78bef"
      },
      "source": [
        "print(\"Mu1: \",torch.tensor(np.matrix([5,2])))\n",
        "print(\"Mu1 dim:\",torch.tensor(np.matrix([5,2])).size())"
      ],
      "execution_count": 14,
      "outputs": [
        {
          "output_type": "stream",
          "text": [
            "Mu1:  tensor([[5, 2]])\n",
            "Mu1 dim: torch.Size([1, 2])\n"
          ],
          "name": "stdout"
        }
      ]
    },
    {
      "cell_type": "code",
      "metadata": {
        "colab_type": "code",
        "id": "zqIm43GWXkoP",
        "colab": {
          "base_uri": "https://localhost:8080/",
          "height": 54
        },
        "outputId": "ce0b8245-df42-4be8-e0ba-b07f5b37abcb"
      },
      "source": [
        "para_list=list()\n",
        "para_list +=  list(scale_shift.parameters()) #logscale dim=[p,K], shift dim=[p,K]; use to calculate exp(log_scale)*input+shift\n",
        "para_list +=  list(kcat.parameters())# w dim=[p,K], b0 dim=[K] ; use to calculate  b = log(exp(b0)/sum(exp(b0))), xw_b = input @ w+ b, xw_b - logsumexp(xw_b)\n",
        "print(\"Number of parameter:\",len(para_list))\n",
        "print(\"Dimension of each parameter:\",list(map(lambda x: x.data.size(),para_list)))\n"
      ],
      "execution_count": 32,
      "outputs": [
        {
          "output_type": "stream",
          "text": [
            "Number of parameter: 4\n",
            "Dimension of each parameter: [torch.Size([2, 100]), torch.Size([2, 100]), torch.Size([2, 100]), torch.Size([100])]\n"
          ],
          "name": "stdout"
        }
      ]
    },
    {
      "cell_type": "markdown",
      "metadata": {
        "colab_type": "text",
        "id": "xGlGHsVEXkoY"
      },
      "source": [
        "Optimize to learn the random transport, as a mixture of K maps"
      ]
    },
    {
      "cell_type": "code",
      "metadata": {
        "id": "J_G6pt6clkVW",
        "colab_type": "code",
        "colab": {}
      },
      "source": [
        "\n",
        "def dirichlet_prior(logb):\n",
        "    alpha= 0.5\n",
        "    return (alpha/K-1) * log_b.sum()"
      ],
      "execution_count": 18,
      "outputs": []
    },
    {
      "cell_type": "code",
      "metadata": {
        "id": "BO-Haoz_lkVe",
        "colab_type": "code",
        "colab": {
          "base_uri": "https://localhost:8080/",
          "height": 164
        },
        "outputId": "9d803b43-ce2a-49da-9735-ee49da0d6591"
      },
      "source": [
        "optimizer = torch.optim.Adam([p for p in para_list if p.requires_grad==True], lr=1e-1)\n",
        "optimizer"
      ],
      "execution_count": 33,
      "outputs": [
        {
          "output_type": "execute_result",
          "data": {
            "text/plain": [
              "Adam (\n",
              "Parameter Group 0\n",
              "    amsgrad: False\n",
              "    betas: (0.9, 0.999)\n",
              "    eps: 1e-08\n",
              "    lr: 0.1\n",
              "    weight_decay: 0\n",
              ")"
            ]
          },
          "metadata": {
            "tags": []
          },
          "execution_count": 33
        }
      ]
    },
    {
      "cell_type": "code",
      "metadata": {
        "id": "CfPjan_nlkVl",
        "colab_type": "code",
        "colab": {
          "base_uri": "https://localhost:8080/",
          "height": 109
        },
        "outputId": "d9e53dfa-662e-4530-8970-5619e382acd9"
      },
      "source": [
        "r = 10.\n",
        "print(\"Number of betas with all the batches\",[batch_no,p])\n",
        "beta = torch.rand([batch_no,p])* r - r/2.\n",
        "print(\"beta size:\",beta.size())\n",
        "# beta is the input in the scale_shift.forward function with imension dim=[batch_no,p]\n",
        "theta = scale_shift(beta)\n",
        "print(\"theta size:\",theta.size())\n",
        "mix_weight = torch.diagonal(kcat(theta,dim=2),0,1,2)  \n",
        "print(\"kcat(beta): \",kcat(theta,dim=2).size())\n",
        "print(\"mix_weight: \",mix_weight.size())"
      ],
      "execution_count": 52,
      "outputs": [
        {
          "output_type": "stream",
          "text": [
            "Number of betas with all the batches [6, 2]\n",
            "beta size: torch.Size([6, 2])\n",
            "theta size: torch.Size([6, 100, 2])\n",
            "kcat(beta):  torch.Size([6, 100, 100])\n",
            "mix_weight:  torch.Size([6, 100])\n"
          ],
          "name": "stdout"
        }
      ]
    },
    {
      "cell_type": "code",
      "metadata": {
        "id": "u7af-Hxt9fv1",
        "colab_type": "code",
        "colab": {
          "base_uri": "https://localhost:8080/",
          "height": 366
        },
        "outputId": "e0e688be-a6f8-43c4-876f-d75d041c559e"
      },
      "source": [
        "# Calculation performed in kcat(theta,dim=2)\n",
        "dim=2\n",
        "b0=kcat.b0\n",
        "w=kcat.w\n",
        "input=theta\n",
        "print(\"b0 dim\",b0.size())\n",
        "print(\"w dim\",w.size())\n",
        "print(\"input dim\",input.size())\n",
        "# theta values are the input of this function. input dimension dim=[batch_no,K,p]\n",
        "# b leaves in the log-space\n",
        "#   torch.logsumexp(input, dim, keepdim=False, *, out=None)\n",
        "#     Returns the log of summed exponentials of each row of the input tensor in the given dimension dim. The computation is numerically stabilized.\n",
        "# We sum other the first and unique dimension of b0\n",
        "b = b0 - torch.logsumexp(b0,0,keepdim=True) #exp(b)=exp(b0)/(sum exp(b0)) so b is the log of the normalized exp(b0) vector, i.e. sum(exp(b)) = 1\n",
        "print(\"b dim:\",b.size())\n",
        "\n",
        "# xw_b[batch_no,K,K] = input[batch_no,K,p] @ w[p,K] + b[K] \n",
        "xw_b = input@w+ b # = a_k^T * theta +log(b_k) in Eq(7) of the paper. input dim=[p], self.w dim=[p,K], b dim=[K];   @: matrix vector multiplication in python\n",
        "print(\"xw_b dim:\",xw_b.size()) #xw_b dim=[batch_no,K,K]\n",
        "\n",
        "res=xw_b - torch.logsumexp(xw_b,dim=dim,keepdim=True) # Weight are normalized to sum to 1 for the third index (dim=2) which is indexing the mixture number of dimension K\n",
        "print(\"xw_b normalized dim:\",res.size()) #xw_b normazlied dim=[batch_no,K,K]\n",
        "\n",
        "print(\"xw_b normalized first batch\",res[0,:5,:5])\n",
        "print(\"xw_b normalized second batch\",res[1,:5,:5])\n",
        "\n"
      ],
      "execution_count": 70,
      "outputs": [
        {
          "output_type": "stream",
          "text": [
            "b0 dim torch.Size([100])\n",
            "w dim torch.Size([2, 100])\n",
            "input dim torch.Size([6, 100, 2])\n",
            "b dim: torch.Size([100])\n",
            "xw_b dim: torch.Size([6, 100, 100])\n",
            "xw_b normalized dim: torch.Size([6, 100, 100])\n",
            "xw_b normalized first batch tensor([[-45.3447, -49.3438, -34.3537, -28.9337, -43.6342],\n",
            "        [ -8.8377, -10.0317,  -9.1254,  -6.8380,  -8.9227],\n",
            "        [-12.7556, -12.3430,  -4.5576,  -6.9909, -11.3781],\n",
            "        [-18.3371, -18.2337,  -8.1100, -10.3519, -16.6307],\n",
            "        [-16.2230, -16.6370,  -8.8528,  -9.5501, -15.0083]],\n",
            "       grad_fn=<SliceBackward>)\n",
            "xw_b normalized second batch tensor([[-162.4698, -182.5580, -155.2478, -118.4554, -161.8709],\n",
            "        [ -43.2031,  -48.2196,  -39.2951,  -30.5511,  -42.7037],\n",
            "        [ -26.9023,  -25.0183,   -6.1906,  -13.8759,  -23.3949],\n",
            "        [ -34.0383,  -36.1227,  -22.5371,  -20.8627,  -32.1852],\n",
            "        [ -50.2851,  -54.4646,  -37.0298,  -31.7097,  -48.2026]],\n",
            "       grad_fn=<SliceBackward>)\n",
            "mix_weight dim torch.Size([6, 100])\n"
          ],
          "name": "stdout"
        }
      ]
    },
    {
      "cell_type": "code",
      "metadata": {
        "id": "5jUvsZ8sD5L5",
        "colab_type": "code",
        "colab": {
          "base_uri": "https://localhost:8080/",
          "height": 348
        },
        "outputId": "f8f2d86b-3d2d-49c7-96d1-5b466613aa86"
      },
      "source": [
        "# Only one diagonal is considered in the calculation of mix_weight from kcat\n",
        "kcat_theta = kcat(theta,dim=2)\n",
        "print(\"kcat(theta) dim\",kcat_theta.size())\n",
        "print(\"kcat(theta) first batch\",kcat_theta[0,:5,:5])\n",
        "print(\"kcat(theta) second batch\",kcat_theta[1,:5,:5])\n",
        "mix_weight = torch.diagonal(kcat_theta,0,1,2) #kcat(beta) \n",
        "print(\"mix_weight dim\",mix_weight.size())\n",
        "print(\"mix_weight first batch\",mix_weight[0,:5])\n",
        "print(\"mix_weight second batch\",mix_weight[1,:5])"
      ],
      "execution_count": 75,
      "outputs": [
        {
          "output_type": "stream",
          "text": [
            "kcat(theta) dim torch.Size([6, 100, 100])\n",
            "kcat(theta) first batch tensor([[-45.3447, -49.3438, -34.3537, -28.9337, -43.6342],\n",
            "        [ -8.8377, -10.0317,  -9.1254,  -6.8380,  -8.9227],\n",
            "        [-12.7556, -12.3430,  -4.5576,  -6.9909, -11.3781],\n",
            "        [-18.3371, -18.2337,  -8.1100, -10.3519, -16.6307],\n",
            "        [-16.2230, -16.6370,  -8.8528,  -9.5501, -15.0083]],\n",
            "       grad_fn=<SliceBackward>)\n",
            "kcat(theta) second batch tensor([[-162.4698, -182.5580, -155.2478, -118.4554, -161.8709],\n",
            "        [ -43.2031,  -48.2196,  -39.2951,  -30.5511,  -42.7037],\n",
            "        [ -26.9023,  -25.0183,   -6.1906,  -13.8759,  -23.3949],\n",
            "        [ -34.0383,  -36.1227,  -22.5371,  -20.8627,  -32.1852],\n",
            "        [ -50.2851,  -54.4646,  -37.0298,  -31.7097,  -48.2026]],\n",
            "       grad_fn=<SliceBackward>)\n",
            "mix_weight dim torch.Size([6, 100])\n",
            "mix_weight first batch tensor([-45.3447, -10.0317,  -4.5576, -10.3519, -15.0083],\n",
            "       grad_fn=<SliceBackward>)\n",
            "mix_weight second batch tensor([-162.4698,  -48.2196,   -6.1906,  -20.8627,  -48.2026],\n",
            "       grad_fn=<SliceBackward>)\n"
          ],
          "name": "stdout"
        }
      ]
    },
    {
      "cell_type": "code",
      "metadata": {
        "colab_type": "code",
        "id": "5Tf7CRNkXkoZ",
        "colab": {
          "base_uri": "https://localhost:8080/",
          "height": 72
        },
        "outputId": "c26d55de-5bc1-43fc-ffaa-4d18bc0cd17d"
      },
      "source": [
        "import copy\n",
        "best_loss = np.inf\n",
        "\n",
        "#for t in range(3000):\n",
        "for t in range(300):\n",
        "    \n",
        "    # Sample new beta values between [0,1) and scale them betwen [-r/2 ; r/2], here between [-5;5]\n",
        "    r = 10.\n",
        "    beta = torch.rand([batch_no,p])* r - r/2. \n",
        "\n",
        "    # Calculate the new thetas from the element-wise location-change function\n",
        "    theta = scale_shift(beta) \n",
        "\n",
        "    # Calculate the mixture weight w_k(theta) from Eq(7) in the paper\n",
        "    #   torch.diagonal(input, offset=0, dim1=0, dim2=1) → Tensor\n",
        "    #        Returns a partial view of input with the its diagonal elements with respect to dim1 and dim2 appended as a dimension at the end of the shape.\n",
        "    #        The argument offset controls which diagonal to consider:\n",
        "    #        If offset = 0, it is the main diagonal.\n",
        "    #           Parameters\n",
        "    #            input (Tensor) – the input tensor. Must be at least 2-dimensional.\n",
        "    #            offset (int, optional) – which diagonal to consider. Default: 0 (main diagonal).\n",
        "    #            dim1 (int, optional) – first dimension with respect to which to take diagonal. Default: 0.\n",
        "    #            dim2 (int, optional) – second dimension with respect to which to take diagonal. Default: 1.\n",
        "    mix_weight = torch.diagonal(kcat(theta,dim=2),0,1,2) #kcat(beta) \n",
        "\n",
        "    # Jacobian of the transport function for one mixture component is Prod_{j=1..p} s_{k,j}   s_{k,j}=exp(scale_shift.logscale[j,k]) ; as shwon below Eq(6) in the paper\n",
        "    # scale_shift.logscale dim=[p,K]\n",
        "    # So logJacobian = sum_{j=1..p} scale_shift.logscale[j,k] = scale_shift.logscale.sum(0) ; summed of the first dimension corresponding to paramete index j=1..p\n",
        "    logjacobian = scale_shift.logscale.sum(0) \n",
        "\n",
        "    #\n",
        "    target_log_density = compLoglik.f(theta) + logjacobian\n",
        "\n",
        "    weighted_target = target_log_density + mix_weight\n",
        "\n",
        "\n",
        "    total = torch.logsumexp(weighted_target,dim=1)\n",
        "    \n",
        "    #regularize b:    \n",
        "    log_b = kcat.b0 - torch.logsumexp(kcat.b0,0, keepdim=True)\n",
        "    w = kcat.w    \n",
        "\n",
        "    # Calculate the loss function over the average of the different batches\n",
        "    loss =  - total.mean()\n",
        "\n",
        "    # Add dirichlet prior on the b coefficients\n",
        "    total_loss =  loss  + dirichlet_prior(log_b)   \n",
        "    \n",
        "    if t%100==0:\n",
        "        print(t, np.log(1.0/100.0) - total.mean())\n",
        "          \n",
        "\n",
        "    # If improved save new best loss\n",
        "    if loss.item()< best_loss:\n",
        "        param_bak = copy.deepcopy( [scale_shift.state_dict(), kcat.state_dict()])\n",
        "        best_loss = loss.item()\n",
        "\n",
        "   # if Nan values in the loss function     \n",
        "    if np.isnan(loss.item()):\n",
        "        scale_shift = ScaleAndShift(p,K)\n",
        "        kcat = KCat(p,K)\n",
        "        scale_shift.load_state_dict(param_bak[0])\n",
        "        kcat.load_state_dict(param_bak[1])\n",
        "        kcat.eval()\n",
        "        scale_shift.eval()\n",
        "#         optimizer.zero_grad()\n",
        "        pass\n",
        "          \n",
        "    \n",
        "    # Clears the gradients of all optimized torch.Tensors\n",
        "    optimizer.zero_grad()\n",
        "\n",
        "    # Backward pass: compute gradient of the loss with respect to model\n",
        "    # parameters\n",
        "    # Use total_loss for the optimization\n",
        "    total_loss.backward(retain_graph=True)\n",
        "\n",
        "    # Calling the step function on an Optimizer makes an update to its\n",
        "    # parameters\n",
        "    optimizer.step()"
      ],
      "execution_count": 20,
      "outputs": [
        {
          "output_type": "stream",
          "text": [
            "0 tensor(5.3959, grad_fn=<RsubBackward1>)\n",
            "100 tensor(0.4947, grad_fn=<RsubBackward1>)\n",
            "200 tensor(0.9725, grad_fn=<RsubBackward1>)\n"
          ],
          "name": "stdout"
        }
      ]
    },
    {
      "cell_type": "markdown",
      "metadata": {
        "id": "x8Z7yxGszAnx",
        "colab_type": "text"
      },
      "source": [
        "# New Section"
      ]
    },
    {
      "cell_type": "code",
      "metadata": {
        "colab_type": "code",
        "id": "Yx3bVarfXkoc",
        "colab": {}
      },
      "source": [
        "def getNp(x):\n",
        "    return x.detach().cpu().numpy()"
      ],
      "execution_count": 21,
      "outputs": []
    },
    {
      "cell_type": "code",
      "metadata": {
        "id": "dqJoXCOXlkV0",
        "colab_type": "code",
        "colab": {}
      },
      "source": [
        "g= getNp( np.log(1.0/100.0) - total[:1000])\n"
      ],
      "execution_count": 22,
      "outputs": []
    },
    {
      "cell_type": "code",
      "metadata": {
        "id": "Kp7fJABclkV9",
        "colab_type": "code",
        "colab": {
          "base_uri": "https://localhost:8080/",
          "height": 35
        },
        "outputId": "d74da6f3-bd55-4db9-a64c-b1b1012964b3"
      },
      "source": [
        "g.mean()"
      ],
      "execution_count": 23,
      "outputs": [
        {
          "output_type": "execute_result",
          "data": {
            "text/plain": [
              "0.5946920124074556"
            ]
          },
          "metadata": {
            "tags": []
          },
          "execution_count": 23
        }
      ]
    },
    {
      "cell_type": "code",
      "metadata": {
        "id": "HbkFOBW-JXTX",
        "colab_type": "code",
        "colab": {
          "base_uri": "https://localhost:8080/",
          "height": 127
        },
        "outputId": "6698a480-e295-4643-fcd2-0ada89ad34f6"
      },
      "source": [
        "beta"
      ],
      "execution_count": 24,
      "outputs": [
        {
          "output_type": "execute_result",
          "data": {
            "text/plain": [
              "tensor([[-1.9876, -1.1712],\n",
              "        [-4.1208, -3.9690],\n",
              "        [-1.6808, -4.7506],\n",
              "        [ 2.7634,  4.7372],\n",
              "        [-3.8886, -1.0320],\n",
              "        [ 0.1840,  3.0752]])"
            ]
          },
          "metadata": {
            "tags": []
          },
          "execution_count": 24
        }
      ]
    },
    {
      "cell_type": "code",
      "metadata": {
        "id": "C9AUvA6_lkWE",
        "colab_type": "code",
        "colab": {}
      },
      "source": [
        "post_sample_beta=list()\n",
        "post_sample_theta=list()\n",
        "post_sample_choice =list()\n",
        "post_sample_map_choice =list()\n",
        "\n",
        "for i in range(50):\n",
        "    theta = scale_shift(beta)\n",
        "    mix_weight = torch.diagonal(kcat(theta,dim=2),0,1,2) #kcat(beta)\n",
        "#     mix_weight = torch.stack([kcat(theta[:,k,:])[:,k] for k in range(K)],dim=1)\n",
        "    logjacobian = scale_shift.logscale.sum(0)\n",
        "\n",
        "    target_log_density = compLoglik.f(theta) + logjacobian\n",
        "\n",
        "    weighted_target = target_log_density + mix_weight\n",
        "    theta_np = getNp(theta)\n",
        "\n",
        "    weight_np =getNp(weighted_target)\n",
        "\n",
        "    pick = np.argmax(weight_np+ np.random.gumbel(size= [batch_no,K]),axis=1)\n",
        "    map_pick = np.argmax(weight_np,axis=1)\n",
        "\n",
        "    post_sample_beta.append(getNp(beta))\n",
        "    post_sample_theta.append(np.array([theta_np[i,pick[i],:] for i in range(batch_no)]))\n",
        "    post_sample_choice.append(pick)\n",
        "    post_sample_map_choice.append(map_pick)\n",
        "\n",
        "beta_sample = np.vstack(post_sample_beta)\n",
        "theta_sample = np.vstack(post_sample_theta)\n",
        "post_sample_choice = np.hstack(post_sample_choice)\n",
        "post_sample_map_choice = np.hstack(post_sample_map_choice)"
      ],
      "execution_count": 25,
      "outputs": []
    },
    {
      "cell_type": "code",
      "metadata": {
        "id": "dAQvszi_lkWJ",
        "colab_type": "code",
        "colab": {}
      },
      "source": [
        "rcParams['figure.dpi'] = 300"
      ],
      "execution_count": 26,
      "outputs": []
    },
    {
      "cell_type": "code",
      "metadata": {
        "id": "eIF5yIQ1lkWO",
        "colab_type": "code",
        "colab": {
          "base_uri": "https://localhost:8080/",
          "height": 992
        },
        "outputId": "4677ffb1-9b15-4146-e986-18d02d2f8efc"
      },
      "source": [
        "col = post_sample_choice\n",
        "_, col1 = np.unique(col, return_inverse=True)\n",
        "\n",
        "\n",
        "plot_n = 3000\n",
        "plt.figure(figsize=[6, 4])\n",
        "plt.scatter(theta_sample[:plot_n,0],theta_sample[:plot_n,1],c=col1[:plot_n], alpha=.8,cmap='jet_r')\n",
        "plt.ylim(-6,6)\n",
        "plt.xlim(-10,10)"
      ],
      "execution_count": 27,
      "outputs": [
        {
          "output_type": "execute_result",
          "data": {
            "text/plain": [
              "(-10.0, 10.0)"
            ]
          },
          "metadata": {
            "tags": []
          },
          "execution_count": 27
        },
        {
          "output_type": "display_data",
          "data": {
            "image/png": "[encoded data removed]",
            "text/plain": [
              "<Figure size 1800x1200 with 1 Axes>"
            ]
          },
          "metadata": {
            "tags": [],
            "needs_background": "light"
          }
        }
      ]
    }
  ]
}