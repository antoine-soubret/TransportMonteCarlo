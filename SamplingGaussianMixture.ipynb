{
  "nbformat": 4,
  "nbformat_minor": 0,
  "metadata": {
    "kernelspec": {
      "display_name": "Python 3",
      "language": "python",
      "name": "python3"
    },
    "language_info": {
      "codemirror_mode": {
        "name": "ipython",
        "version": 3
      },
      "file_extension": ".py",
      "mimetype": "text/x-python",
      "name": "python",
      "nbconvert_exporter": "python",
      "pygments_lexer": "ipython3",
      "version": "3.7.3"
    },
    "colab": {
      "name": "SamplingGaussianMixture.ipynb",
      "version": "0.3.2",
      "provenance": []
    }
  },
  "cells": [
    {
      "cell_type": "code",
      "metadata": {
        "id": "9_Z5moYIXkn5",
        "colab_type": "code",
        "colab": {}
      },
      "source": [
        "import numpy as np\n",
        "import matplotlib.pyplot as plt\n",
        "%matplotlib inline\n",
        "\n",
        "from pylab import rcParams\n",
        "rcParams['figure.figsize'] = 10, 8\n",
        "rcParams['figure.dpi'] = 300\n",
        "\n",
        "import torch\n",
        "from torch import nn\n",
        "from torch import distributions\n",
        "from torch.nn.parameter import Parameter\n",
        "\n",
        "from sklearn import cluster, datasets, mixture\n",
        "from sklearn.preprocessing import StandardScaler\n",
        "\n",
        "\n",
        "# select device: change to 'cpu' if there's no GPU device\n",
        "device = torch.device('cuda:0')"
      ],
      "execution_count": 0,
      "outputs": []
    },
    {
      "cell_type": "code",
      "metadata": {
        "id": "ixvMKP3CXkn-",
        "colab_type": "code",
        "colab": {}
      },
      "source": [
        "# invertible neural network\n",
        "class RealNVP(nn.Module):\n",
        "    def __init__(self, nets, nett, mask):\n",
        "        super(RealNVP, self).__init__()\n",
        "        \n",
        "        self.mask = nn.Parameter(mask, requires_grad=False).to(device)\n",
        "        self.t = torch.nn.ModuleList([nett() for _ in range(len(masks))])\n",
        "        self.s = torch.nn.ModuleList([nets() for _ in range(len(masks))])\n",
        "        \n",
        "    def f(self, z):\n",
        "        x = z\n",
        "        log_det_J = z.new_zeros(z.shape[0])\n",
        "        for i in range(len(self.t)):\n",
        "            x_ = x*self.mask[i]\n",
        "            s = self.s[i](x_)*(1 - self.mask[i])\n",
        "            t = self.t[i](x_)*(1 - self.mask[i])\n",
        "            x = x_ + (1 - self.mask[i]) * (x * torch.exp(s) + t)\n",
        "            log_det_J += s.sum(dim=1)\n",
        "        return x, log_det_J\n",
        "\n",
        "    def f_inv(self, x):\n",
        "        log_det_J, z = x.new_zeros(x.shape[0]), x\n",
        "        for i in reversed(range(len(self.t))):\n",
        "            z_ = self.mask[i] * z\n",
        "            s = self.s[i](z_) * (1-self.mask[i])\n",
        "            t = self.t[i](z_) * (1-self.mask[i])\n",
        "            z = (1 - self.mask[i]) * (z - t) * torch.exp(-s) + z_\n",
        "            log_det_J -= s.sum(dim=1)\n",
        "        return z, log_det_J"
      ],
      "execution_count": 0,
      "outputs": []
    },
    {
      "cell_type": "code",
      "metadata": {
        "id": "2P1Y-JsgXkoA",
        "colab_type": "code",
        "colab": {}
      },
      "source": [
        "nets = lambda: nn.Sequential(nn.Linear(2, 256), nn.LeakyReLU(), nn.Linear(256, 256), nn.LeakyReLU(), nn.Linear(256, 2), nn.Tanh()).to(device)\n",
        "nett = lambda: nn.Sequential(nn.Linear(2, 256), nn.LeakyReLU(), nn.Linear(256, 256), nn.LeakyReLU(), nn.Linear(256, 2)).to(device)\n",
        "masks = torch.from_numpy(np.array([[0, 1], [1, 0]] * 3).astype(np.float32)).to(device)\n"
      ],
      "execution_count": 0,
      "outputs": []
    },
    {
      "cell_type": "code",
      "metadata": {
        "id": "rl_-eCLFXkoD",
        "colab_type": "code",
        "colab": {}
      },
      "source": [
        "# number of mixture components\n",
        "K = 10"
      ],
      "execution_count": 0,
      "outputs": []
    },
    {
      "cell_type": "code",
      "metadata": {
        "id": "SkDpxi8WXkoF",
        "colab_type": "code",
        "colab": {}
      },
      "source": [
        "flow_list = [RealNVP(nets, nett, masks) for _ in range(K)]\n",
        "\n",
        "net_pi = lambda: nn.Sequential(nn.Linear(2, 256), nn.LeakyReLU(), nn.Linear(256, 256), \n",
        "                               nn.LeakyReLU(), nn.Linear(256, K), nn.Softmax(dim=1)).to(device)\n",
        "\n",
        "flow_pi = net_pi()"
      ],
      "execution_count": 0,
      "outputs": []
    },
    {
      "cell_type": "code",
      "metadata": {
        "id": "U-5rZlRHXkoI",
        "colab_type": "code",
        "colab": {}
      },
      "source": [
        "# n: training batch size\n",
        "\n",
        "n = 1000"
      ],
      "execution_count": 0,
      "outputs": []
    },
    {
      "cell_type": "code",
      "metadata": {
        "id": "GIHVPiYEXkoK",
        "colab_type": "code",
        "colab": {}
      },
      "source": [
        "# the target log-prior-likelihood\n",
        "\n",
        "p = 2\n",
        "\n",
        "class Loglik(nn.Module):\n",
        "    def __init__(self):\n",
        "        super(Loglik, self).__init__()\n",
        "        sigma0 = 1\n",
        "\n",
        "        Sigma1 = torch.tensor(np.reshape(np.array([1,0.5,0.5,1], np.float32),[2,2])).to(device) * sigma0**2\n",
        "        Sigma2 = torch.tensor(np.reshape(np.array([1,-0.9,-0.9,1], np.float32),[2,2])).to(device) * sigma0**2\n",
        "\n",
        "        self.Omega1 = (Sigma1).inverse()\n",
        "        self.Omega2 = (Sigma2).inverse()\n",
        "\n",
        "        self.Mu1 = torch.tensor(np.matrix([1,2],dtype= np.float32)).to(device)\n",
        "        self.Mu2 = torch.tensor(np.matrix([6,2],dtype= np.float32)).to(device)\n",
        "              \n",
        "    def f(self, z):\n",
        "        Mu1 = self.Mu1\n",
        "        Mu2 = self.Mu2\n",
        "        Omega1 = self.Omega1\n",
        "        Omega2 = self.Omega2\n",
        "        \n",
        "        d = z-Mu1\n",
        "        s1 =- torch.diag(d@Omega1@d.t())/2.0 + torch.logdet(Omega1)/2.0\n",
        "\n",
        "        d = z-Mu2\n",
        "        s2 =- torch.diag(d@Omega2@d.t())/2.0 + torch.logdet(Omega2)/2.0\n",
        "    \n",
        "        return  torch.logsumexp(torch.stack([s1,s2]),dim=0) - np.log(2.0)\n",
        "\n",
        "compLoglik = Loglik()\n",
        "\n",
        "def loglik(z):\n",
        "    d = z-Mu1\n",
        "    s1 = - torch.diag(d@Omega1@d.t())/2.0\n",
        "\n",
        "    d = z-Mu2\n",
        "    s2 =- torch.diag(d@Omega2@d.t())/2.0\n",
        "    \n",
        "    return  torch.logsumexp(torch.stack([s1,s2]),dim=0)\n",
        "\n",
        "# the reference density: we use uniform here.\n",
        "\n",
        "\n",
        "def logReferenceDensity(z):\n",
        "    return 0"
      ],
      "execution_count": 0,
      "outputs": []
    },
    {
      "cell_type": "code",
      "metadata": {
        "id": "D0ay4Qa_XkoM",
        "colab_type": "code",
        "colab": {}
      },
      "source": [
        "para_list = list()"
      ],
      "execution_count": 0,
      "outputs": []
    },
    {
      "cell_type": "code",
      "metadata": {
        "id": "zqIm43GWXkoP",
        "colab_type": "code",
        "colab": {}
      },
      "source": [
        "for flow in flow_list:\n",
        "    para_list+= list(flow.parameters())\n",
        "    \n",
        "para_list +=  list(flow_pi.parameters())"
      ],
      "execution_count": 0,
      "outputs": []
    },
    {
      "cell_type": "code",
      "metadata": {
        "id": "FHioGXTNXkoS",
        "colab_type": "code",
        "colab": {}
      },
      "source": [
        "optimizer = torch.optim.Adam([p for p in para_list if p.requires_grad==True], lr=1e-4)"
      ],
      "execution_count": 0,
      "outputs": []
    },
    {
      "cell_type": "code",
      "metadata": {
        "id": "Ny_btYDxXkoV",
        "colab_type": "code",
        "colab": {}
      },
      "source": [
        "import copy\n",
        "\n",
        "\n",
        "best_loss = np.inf"
      ],
      "execution_count": 0,
      "outputs": []
    },
    {
      "cell_type": "markdown",
      "metadata": {
        "id": "xGlGHsVEXkoY",
        "colab_type": "text"
      },
      "source": [
        "Optimize to learn the random transport, as a mixture of K maps"
      ]
    },
    {
      "cell_type": "code",
      "metadata": {
        "id": "5Tf7CRNkXkoZ",
        "colab_type": "code",
        "colab": {},
        "outputId": "80dbc16c-5b2e-4397-b9ce-5f56cdccf496"
      },
      "source": [
        "for t in range(3000):\n",
        "    \n",
        "    x = torch.rand([n,p]).to(device)\n",
        "    \n",
        "    Loglik_list = list()\n",
        "    z_list = list()\n",
        "    \n",
        "    for k in range(K):\n",
        "\n",
        "        flow = flow_list[k]\n",
        "        z_cad, logdetJ = flow.f(x)\n",
        "        Loglik_list.append(compLoglik.f(z_cad)+logdetJ + torch.log(flow_pi(z_cad)[:,k]))\n",
        "#         z_list.append(z_cad) \n",
        "        \n",
        "    total_loglik = torch.logsumexp(torch.stack(Loglik_list), dim=0) - logReferenceDensity(x)\n",
        "        \n",
        "    loss =  -  total_loglik.mean()\n",
        "    \n",
        "    if t%50==0:\n",
        "        print(t, loss.item())\n",
        "        \n",
        "    if loss.item()< best_loss:\n",
        "        best_model= copy.deepcopy([flow_list , flow_pi])\n",
        "        best_loss = loss.item()\n",
        "          \n",
        "\n",
        "    optimizer.zero_grad()\n",
        "\n",
        "    # Backward pass: compute gradient of the loss with respect to model\n",
        "    # parameters\n",
        "    loss.backward(retain_graph=True)\n",
        "\n",
        "    # Calling the step function on an Optimizer makes an update to its\n",
        "    # parameters\n",
        "    optimizer.step()"
      ],
      "execution_count": 0,
      "outputs": [
        {
          "output_type": "stream",
          "text": [
            "0 1.7610108852386475\n",
            "50 -1.474622130393982\n",
            "100 -1.653828501701355\n",
            "150 -1.7182953357696533\n",
            "200 -1.7337361574172974\n",
            "250 -1.7510485649108887\n",
            "300 -1.7461456060409546\n",
            "350 -1.7386006116867065\n",
            "400 -1.737061619758606\n",
            "450 -1.7510013580322266\n",
            "500 -1.766456961631775\n",
            "550 -1.7683136463165283\n",
            "600 -1.7596423625946045\n",
            "650 -1.7512208223342896\n",
            "700 -1.7963776588439941\n",
            "750 -1.7482857704162598\n",
            "800 -1.791283369064331\n",
            "850 -1.7902171611785889\n",
            "900 -1.797846794128418\n",
            "950 -1.7755662202835083\n",
            "1000 -1.7719537019729614\n",
            "1050 -1.7846524715423584\n",
            "1100 -1.8010444641113281\n",
            "1150 -1.795754313468933\n",
            "1200 -1.7894089221954346\n",
            "1250 -1.7901207208633423\n",
            "1300 -1.7904716730117798\n",
            "1350 -1.7919673919677734\n",
            "1400 -1.7980005741119385\n",
            "1450 -1.78057062625885\n",
            "1500 -1.797916054725647\n",
            "1550 -1.8118606805801392\n",
            "1600 -1.7994998693466187\n",
            "1650 -1.7995553016662598\n",
            "1700 -1.7987556457519531\n",
            "1750 -1.7812894582748413\n",
            "1800 -1.7951053380966187\n",
            "1850 -1.7918318510055542\n",
            "1900 -1.7942739725112915\n",
            "1950 -1.798558235168457\n",
            "2000 -1.782884955406189\n",
            "2050 -1.7980722188949585\n",
            "2100 -1.8148415088653564\n",
            "2150 -1.786812424659729\n",
            "2200 -1.7983752489089966\n",
            "2250 -1.7986515760421753\n",
            "2300 -1.8057242631912231\n",
            "2350 -1.7977732419967651\n",
            "2400 -1.8061416149139404\n",
            "2450 -1.798616886138916\n",
            "2500 -1.8060439825057983\n",
            "2550 -1.7967358827590942\n",
            "2600 -1.7845511436462402\n",
            "2650 -1.8080470561981201\n",
            "2700 -1.8110620975494385\n",
            "2750 -1.8034083843231201\n",
            "2800 -1.8039119243621826\n",
            "2850 -1.797606110572815\n",
            "2900 -1.8011914491653442\n",
            "2950 -1.8162801265716553\n"
          ],
          "name": "stdout"
        }
      ]
    },
    {
      "cell_type": "code",
      "metadata": {
        "id": "Yx3bVarfXkoc",
        "colab_type": "code",
        "colab": {}
      },
      "source": [
        "# function to generate new Z:\n",
        "\n",
        "from torch.distributions import gumbel\n",
        "\n",
        "gum_rng= gumbel.Gumbel(0,1)\n",
        "\n",
        "def soft_multinomial(Pi):\n",
        "    lam = 0.1\n",
        "    return torch.softmax((Pi.log() + gum_rng.sample(Pi.shape).to(device))/lam,1)\n",
        "\n",
        "\n",
        "def soft_multinomial_log(logPi):\n",
        "    lam = 0.1\n",
        "    return torch.softmax((logPi + gum_rng.sample(logPi.shape).to(device))/lam,1)\n",
        "\n",
        "def get_z(model, x):\n",
        "    \n",
        "    flow_list = model[0]\n",
        "    flow_pi = model[1]\n",
        "    \n",
        "    Loglik_list = list()\n",
        "    z_list = list()\n",
        "    \n",
        "    for k in range(K):\n",
        "\n",
        "        flow = flow_list[k]\n",
        "        z_cad, logdetJ = flow.f(x)\n",
        "        Loglik_list.append(compLoglik.f(z_cad)+logdetJ + torch.log(flow_pi(z_cad)[:,k]))\n",
        "        z_list.append(z_cad) \n",
        "        \n",
        "    total_loglik = torch.logsumexp(torch.stack(Loglik_list), dim=0)\n",
        "        \n",
        "    loss =  -  total_loglik.mean()\n",
        "        \n",
        "    c = soft_multinomial_log(torch.stack(Loglik_list).t())\n",
        "    z_candidates = torch.stack(z_list)\n",
        "    z = torch.stack( [c[i]@ z_candidates[:,i,:] for i in range(x.shape[0])])\n",
        "    \n",
        "    return z"
      ],
      "execution_count": 0,
      "outputs": []
    },
    {
      "cell_type": "markdown",
      "metadata": {
        "id": "mHrM_iw0Xkoe",
        "colab_type": "text"
      },
      "source": [
        "Generate target Z via random transport\n"
      ]
    },
    {
      "cell_type": "code",
      "metadata": {
        "id": "PTCmoXILXkof",
        "colab_type": "code",
        "colab": {}
      },
      "source": [
        "\n",
        "x = torch.rand([int(5E3),p]).to(device)\n",
        "\n",
        "Loglik_list = list()\n",
        "z_list = list()\n",
        "\n",
        "for k in range(K):\n",
        "\n",
        "    flow = flow_list[k]\n",
        "    z_cad, logdetJ = flow.f(x)\n",
        "    Loglik_list.append(compLoglik.f(z_cad)+logdetJ + torch.log(flow_pi(z_cad)[:,k]))\n",
        "    z_list.append(z_cad) \n",
        "\n",
        "g = -( torch.logsumexp(torch.stack(Loglik_list), dim=0) - logReferenceDensity(x)).detach().cpu().numpy()\n",
        "\n",
        "\n",
        "c = soft_multinomial_log(torch.stack(Loglik_list).t())\n",
        "z_candidates = torch.stack(z_list)\n",
        "z = torch.stack( [c[i]@ z_candidates[:,i,:] for i in range(x.shape[0])]).detach().cpu().numpy()"
      ],
      "execution_count": 0,
      "outputs": []
    },
    {
      "cell_type": "markdown",
      "metadata": {
        "id": "Q_q8WcEtXkoh",
        "colab_type": "text"
      },
      "source": [
        "Scatterplot of Normal Mixture"
      ]
    },
    {
      "cell_type": "code",
      "metadata": {
        "id": "2yY_deW4Xkoi",
        "colab_type": "code",
        "colab": {},
        "outputId": "74d1a32f-25ec-4118-b7d4-b61f2848e661"
      },
      "source": [
        "plt.scatter(z[:,0],z[:,1])"
      ],
      "execution_count": 0,
      "outputs": [
        {
          "output_type": "execute_result",
          "data": {
            "text/plain": [
              "<matplotlib.collections.PathCollection at 0x7fc0d9cd1fd0>"
            ]
          },
          "metadata": {
            "tags": []
          },
          "execution_count": 15
        },
        {
          "output_type": "display_data",
          "data": {
            "image/png": "[encoded data removed]",
            "text/plain": [
              "<Figure size 432x288 with 1 Axes>"
            ]
          },
          "metadata": {
            "tags": [],
            "needs_background": "light"
          }
        }
      ]
    },
    {
      "cell_type": "markdown",
      "metadata": {
        "id": "GvQG3yJSXkok",
        "colab_type": "text"
      },
      "source": [
        "Approximation Error: empirical KL divergence"
      ]
    },
    {
      "cell_type": "code",
      "metadata": {
        "id": "NScD1x2-Xkol",
        "colab_type": "code",
        "colab": {},
        "outputId": "c1e54702-fddb-4670-d6ed-3833c0915888"
      },
      "source": [
        "g.mean() -( -np.log(2*np.pi))"
      ],
      "execution_count": 0,
      "outputs": [
        {
          "output_type": "execute_result",
          "data": {
            "text/plain": [
              "0.023392470156903933"
            ]
          },
          "metadata": {
            "tags": []
          },
          "execution_count": 16
        }
      ]
    }
  ]
}